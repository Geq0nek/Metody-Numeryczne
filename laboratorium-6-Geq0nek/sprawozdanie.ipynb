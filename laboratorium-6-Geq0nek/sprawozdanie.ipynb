{
 "cells": [
  {
   "cell_type": "markdown",
   "metadata": {},
   "source": [
    "# <center>Iteracyjne równania liniowe i macierze rzadkie</center>"
   ]
  },
  {
   "cell_type": "markdown",
   "metadata": {},
   "source": [
    "Instrukcja:\n",
    "Na zajęciach należy wykonać poniższe zadania, a następnie sporządzić sprawozdanie zawierające odpowiedzi (w postaci kodu) z komentarzami w środowisku Jupyter Notebook i umieścić je na platformie e-learningowej.   "
   ]
  },
  {
   "cell_type": "code",
   "execution_count": 1,
   "metadata": {},
   "outputs": [],
   "source": [
    "import main\n",
    "import scipy as sp\n",
    "import numpy as np\n",
    "import matplotlib\n",
    "import matplotlib.pyplot as plt\n",
    "import timeit\n",
    "from pympler import asizeof \n",
    "from scipy.sparse import diags"
   ]
  },
  {
   "cell_type": "markdown",
   "metadata": {},
   "source": [
    "**Cel zajęć:** Celem zajęć jest zapoznanie się z macierzami rzadkimi, oraz iteracyjnymi metodami rozwiązywania układów równań liniowych w postaci macierzowej. Czyli dana jest macierz [rzadka](https://pl.wikipedia.org/wiki/Macierz_rzadka) $\\mathbf{A}$ o wymiarach ($m\\times m$) oraz wektor $\\mathbf{b}$ ($m\\times 1$), należy rozwiązać układ równań postaci:    \n",
    "$\n",
    "\\mathbf{Ax}=\\mathbf{b}\n",
    "$ \n",
    "  \n",
    "gdzie $\\mathbf{A}$ to macierz współczynników z lewej strony równania, wektor $\\mathbf{x}$ jest wektorem zmiennych a wektor $\\mathbf{b}$ wyników prawej strony równania.  \n",
    "\n",
    "Do oceny jakości rozwiązania będziemy wykorzystywać residuum (ang. *residual*)\n",
    "$\n",
    "\\mathbf{r}=\\mathbf{b}-\\mathbf{Ax}\n",
    "$ \n",
    "  "
   ]
  },
  {
   "cell_type": "markdown",
   "metadata": {},
   "source": [
    "***Zadanie 1***\n",
    "\n",
    "W macierzy rzadkiej większość elementów wynosi 0, w związku z tym przechowywanie wprost takiej macierzy w pamięci jest niepraktyczne. Do przechowywania i wykonywania operacji na macierzach rzadkich służy moduł [scipy.sparse](https://docs.scipy.org/doc/scipy/reference/sparse.html). \n",
    "1. Zapoznaj się z różnymi formatami przechowywania macierzy rzadkich.\n",
    "Na protrzeby ninejszego laboratorium wykorzystany zostanie format [Compressed Sparse Column](https://docs.scipy.org/doc/scipy/reference/generated/scipy.sparse.csc_array.html#scipy.sparse.csc_array)  \n",
    "2. Przedstaw na jednym wykresie (scatter plot) dla 10 równo rozmieszczonych wartości $m$ z zakresu od $100$ do $10000$ ile pamięci zajmuje ta sama macierz o wymiarach ($m\\times m$) w zapisana w formacie $numpy.ndarray$ oraz w formacie $scipy.sparse.csc\\_array$ \n",
    "\n",
    "Do obliczenia rozmiaru zmiennych monżna wykorzystać funkcję [asizeof.asizeof()](https://pympler.readthedocs.io/en/latest/library/asizeof.html#)\n",
    "\n",
    "3. Z czego wynika taki wygląd wykresu?\n"
   ]
  },
  {
   "cell_type": "code",
   "execution_count": 2,
   "metadata": {},
   "outputs": [
    {
     "data": {
      "image/png": "[encoded data removed]",
      "text/plain": [
       "<Figure size 640x480 with 1 Axes>"
      ]
     },
     "metadata": {},
     "output_type": "display_data"
    }
   ],
   "source": [
    "# # Generowanie macierzy w formacie scipy.sparse.csc_array\n",
    "# m = 100\n",
    "# A = sp.sparse.random(m, m, density=0.01, format='csc')\n",
    "\n",
    "# # Uzyskanie reprezentacji tej samej macierzy w formacie numpy.ndarray\n",
    "# np_A = A.toarray()\n",
    "\n",
    "vector_m = np.linspace(100, 10000, 10, dtype=int)\n",
    "size_of_ndarray = []\n",
    "size_of_scs_array = []\n",
    "\n",
    "for m in vector_m:\n",
    "    A = sp.sparse.random(m, m, density=0.01, format='csc')\n",
    "    np_A = A.toarray()\n",
    "    size_of_ndarray.append(asizeof.asizeof(A))\n",
    "    size_of_scs_array.append(asizeof.asizeof(np_A))\n",
    "\n",
    "plt.scatter(vector_m, size_of_ndarray)\n",
    "plt.scatter(vector_m, size_of_scs_array)\n",
    "plt.show()\n"
   ]
  },
  {
   "cell_type": "markdown",
   "metadata": {},
   "source": [
    "3) Taki wygląd wykresu wynika z faktu, że macierz utworzona za pomocą ndarray nie jest redukowna więc zajmuje więcej miejsca w pamięci. Macierz csc_array jest to natomiast macierz zredukowana o nipotrzebne zera w występujące w macierzy rzadkiej dzięki czemu jak możemy zobaczyć na wykresie zajmuje mniej pamięci niż metoda ndarray"
   ]
  },
  {
   "cell_type": "markdown",
   "metadata": {},
   "source": [
    "***Zadanie 2***\n",
    "\n",
    "Moduł [scipy.sparse](https://docs.scipy.org/doc/scipy/reference/sparse.html) implementuje operacje na macierzach rzadkich w dowolnym formacie.  \n",
    "1. Wygeneruj dwie macierze $\\mathbf{A}$  i $\\mathbf{B}$ o wymiarach $1000\\times 1000$  \n",
    "2. Porównaj przy pomocy funkcji $\\%timeit$ czas potrzebny na wykonanie mnożenia macierzowe $\\mathbf{A * B}$  zapisanych w formacie $numpy.ndarray$ oraz $scipy.sparse.csc\\_array$ \n",
    "3. Z czego wynika różnica?"
   ]
  },
  {
   "cell_type": "code",
   "execution_count": 4,
   "metadata": {},
   "outputs": [
    {
     "name": "stderr",
     "output_type": "stream",
     "text": [
      "UsageError: Line magic function `%%timeit` not found.\n"
     ]
    }
   ],
   "source": [
    "A = sp.sparse.random(1000, 1000, density=0.01, format='csc')\n",
    "B = sp.sparse.random(1000, 1000, density=0.01, format='csc')\n",
    "\n",
    "np_A = A.toarray()\n",
    "np_B = B.toarray()\n"
   ]
  },
  {
   "cell_type": "code",
   "execution_count": 17,
   "metadata": {},
   "outputs": [
    {
     "name": "stdout",
     "output_type": "stream",
     "text": [
      "28.9 ms ± 0 ns per loop (mean ± std. dev. of 1 run, 100 loops each)\n"
     ]
    }
   ],
   "source": [
    "%%timeit -n 100 -r 1\n",
    "np_AB = np_A@np_B\n",
    "\n",
    "# Czas potrzebny na wykonanie mnożenia dla macierzy A i B w formacie numpy.ndarray'"
   ]
  },
  {
   "cell_type": "code",
   "execution_count": 18,
   "metadata": {},
   "outputs": [
    {
     "name": "stdout",
     "output_type": "stream",
     "text": [
      "2.04 ms ± 0 ns per loop (mean ± std. dev. of 1 run, 100 loops each)\n"
     ]
    }
   ],
   "source": [
    "%%timeit -n 100 -r 1\n",
    "csc_AB = A@B\n",
    "\n",
    "# Czas potrzebny na wykonanie mnożenia dla macierzy A i B w formacie scipy.sparse.csc_array"
   ]
  },
  {
   "cell_type": "markdown",
   "metadata": {},
   "source": [
    "3) Różnica wynika w ilości potrzebnych do wykonania działań. Dla macierzy csc mamy do wykoanania mniej mnożen ze względu na zredukowaną postać. Natomiast w przypaku macierzy np_AB tych działań musimy wykonać znacznie więcej"
   ]
  },
  {
   "cell_type": "markdown",
   "metadata": {},
   "source": [
    "***Zadanie 3***  \n",
    "\n",
    "Aby metody iteracyjne znalazły rozwiązanie układu należy zadbać o to by macierz $\\mathbf{A}$ w układzie $\\mathbf{Ax}=\\mathbf{b}$ była [diagonalnie zdominowana](https://en.wikipedia.org/wiki/Diagonally_dominant_matrix). Przekształcanie dowolnej macierzy do tej postaci jest skomplikowanym zagadnieniem, w związku z czym na potrzeby tego zadania należy sprawdzić czy wygenerowaliśmy macierz o odpowiedniej własności, aby pominąć krok przekształcania.\n",
    "\n",
    "1. Uzupełnij funkcję $is\\_diagonaly\\_dominant()$ w pliku $main.py$ zgodnie z opisem  \n",
    "(podpowiedź: korzystanie z pętli for nie jest dobrym rozwiązaniem, ponieważ często mamy do czynienia z bardzo dużymi wymiarami, przy których pętle zajmują bardzo duożo czasu. Skoprzystaj z funkcji [np.sum()](https://numpy.org/doc/stable/reference/generated/numpy.sum.html), oraz [np.diagonal()](https://numpy.org/doc/stable/reference/generated/numpy.diagonal.html))  \n",
    "\n",
    "2. Wygeneruj przy pomocy funkcji $generate\\_matrix()$ macierz $\\mathbf{A}$ o wymiarach $1000\\times 1000$. Przy pomocy funkcji z poprzedniego punktu zweryfikuj, czy wygenerowana macierz jest diagonalnie zdominowana. Wygeneruj również wektor $\\mathbf{b}$ $1000\\times 1$\n",
    "\n",
    "\n",
    "    \n",
    "Istnieje wiele metod iteracyjnego rozwiązywania równań, nie różnią się one znacząco od siebie w kwesti wywołania metody, dlatego w dalszej części zadania należy wybrać jedną z metod: [GMRES](https://docs.scipy.org/doc/scipy/reference/generated/scipy.sparse.linalg.gmres.html) lub [Conjugate Gradient](https://docs.scipy.org/doc/scipy/reference/generated/scipy.sparse.linalg.cg.html) i dla niej przeprowadzić dalszą analizę. W przypadku wyboru drugiej opcji należy zadbać o to aby macierz była dodatnio określona, poprzez podanie argumentu $is\\_simetrical = True$\n",
    "\n",
    "3. Korzystając z funkcji $residual\\_norm()$ z pliku $main.py$ zbadaj wpływ argumentów $tol$ i $maxiter$ na działanie wybranej metody. Sporządź wykresy przedstawiające wartość normy residuum w zależności od zmiany podanych parametrów  \n",
    "4. Opisz zaobserwowane zależności \n"
   ]
  },
  {
   "cell_type": "code",
   "execution_count": 24,
   "metadata": {},
   "outputs": [
    {
     "name": "stdout",
     "output_type": "stream",
     "text": [
      "Czy macierz A jest diagonalnie zdominowana? True\n"
     ]
    },
    {
     "data": {
      "image/png": "[encoded data removed]",
      "text/plain": [
       "<Figure size 640x480 with 1 Axes>"
      ]
     },
     "metadata": {},
     "output_type": "display_data"
    }
   ],
   "source": [
    "def generate_matrix(m=1000, is_simetrical=False):\n",
    "    if is_simetrical:\n",
    "        num_u = np.random.randint(2, m//2)\n",
    "        num_l = np.random.randint(2, m//2)\n",
    "        diagonal_values = np.random.rand(num_u)\n",
    "        matrix = diags(diagonal_values, list(range(0, num_u)), shape=(m, m))\n",
    "        matrix = matrix + matrix.T\n",
    "        a = matrix.toarray()\n",
    "        np.fill_diagonal(a, np.sum(np.abs(a), axis=1) - np.abs(np.diagonal(a)) + np.random.rand(m))\n",
    "        return sp.sparse.csc_array(a)\n",
    "    else:\n",
    "        num_u = np.random.randint(2, m//2)\n",
    "        num_l = np.random.randint(2, m//2)\n",
    "        diagonal_values = np.random.rand(num_u + num_l)\n",
    "        matrix = diags(diagonal_values, list(range(-num_l, num_u)), shape=(m, m))\n",
    "        a = matrix.toarray()\n",
    "        np.fill_diagonal(a, np.sum(np.abs(a), axis=1) - np.abs(np.diagonal(a)) + np.random.rand(m))\n",
    "        return sp.sparse.csc_array(a)\n",
    "    \n",
    "# Zadanie 2\n",
    "A = generate_matrix()\n",
    "A = A.toarray()\n",
    "check_A = main.is_diagonaly_dominant(A)\n",
    "print(\"Czy macierz A jest diagonalnie zdominowana?\", check_A)\n",
    "\n",
    "\n",
    "b = np.random.rand(1000, 1)\n",
    "b = b.reshape(-1, 1)\n",
    "\n",
    "# Zadanie 3 dla metody GMRES\n",
    "tol = []\n",
    "maxiter = []\n",
    "\n",
    "vec = np.linspace(1, 100, 50, dtype=int)\n",
    "\n",
    "for k in vec:\n",
    "    x1, info1 = sp.sparse.linalg.gmres(A, b, tol=k)\n",
    "    residual_norm_tol = main.residual_norm(A, x1, b)\n",
    "    tol.append(residual_norm_tol)\n",
    "\n",
    "    x2, info2 = sp.sparse.linalg.gmres(A, b, maxiter=k)\n",
    "    residual_norm_maxiter = main.residual_norm(A, x2, b)\n",
    "    maxiter.append(residual_norm_maxiter)\n",
    "\n",
    "\n",
    "plt.scatter(vec, tol, label='tol')\n",
    "plt.scatter(vec, maxiter, label='maxiter')\n",
    "plt.xlabel(\"Wartości\")\n",
    "plt.ylabel(\"Wartość normy Rediduum\")\n",
    "plt.legend()\n",
    "plt.show()"
   ]
  },
  {
   "cell_type": "markdown",
   "metadata": {},
   "source": [
    "4) Na podstawie powyższego wykresu można zaobserwoać, że dla różnych wartości argumentów tol i maxiter wartośći residuum dla funkcji GMRES jest różna. W przypadku argumentu maxiter wartości normy się nie zmienia natomiast dla argumentu tol różnica normy residuum jest bardzo duża."
   ]
  }
 ],
 "metadata": {
  "kernelspec": {
   "display_name": "MN_2023",
   "language": "python",
   "name": "python3"
  },
  "language_info": {
   "codemirror_mode": {
    "name": "ipython",
    "version": 3
   },
   "file_extension": ".py",
   "mimetype": "text/x-python",
   "name": "python",
   "nbconvert_exporter": "python",
   "pygments_lexer": "ipython3",
   "version": "3.10.7"
  }
 },
 "nbformat": 4,
 "nbformat_minor": 2
}
